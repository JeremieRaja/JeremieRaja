{
 "cells": [
  {
   "cell_type": "markdown",
   "id": "b2139176",
   "metadata": {},
   "source": [
    "Ce code utilise la bibliothèque transformers de Hugging Face pour charger un modèle de traduction MarianMT pré-entraîné et l'utiliser pour traduire des phrases de l'anglais vers le français. Voici une explication détaillée du code :"
   ]
  },
  {
   "cell_type": "code",
   "execution_count": null,
   "id": "47736017",
   "metadata": {},
   "outputs": [],
   "source": [
    "#Importations\n",
    "from transformers import MarianMTModel,MarianTokenizer"
   ]
  },
  {
   "cell_type": "markdown",
   "id": "1fb8a2b3",
   "metadata": {},
   "source": [
    "Ces lignes importent les classes nécessaires pour utiliser le modèle de traduction MarianMT et son tokenizer."
   ]
  },
  {
   "cell_type": "code",
   "execution_count": null,
   "id": "a8b85190",
   "metadata": {},
   "outputs": [],
   "source": [
    "#Chargement du modèle et du tokenizer\n",
    "\n",
    "model_name = 'Helsinki-NLP/opus-mt-en-fr'\n",
    "tokenizer = MarianTokenizer.from_pretrained(model_name)\n",
    "model = MarianMTModel.from_pretrained(model_name)"
   ]
  },
  {
   "cell_type": "markdown",
   "id": "25bd1ab9",
   "metadata": {},
   "source": [
    "model_name spécifie le modèle pré-entraîné à utiliser, ici un modèle MarianMT pour la traduction de l'anglais vers le français.\n",
    "tokenizer charge le tokenizer associé au modèle pré-entraîné.\n",
    "model charge le modèle de traduction MarianMT."
   ]
  },
  {
   "cell_type": "markdown",
   "id": "b3e5223a",
   "metadata": {},
   "source": [
    "Fonction de traduction"
   ]
  },
  {
   "cell_type": "code",
   "execution_count": null,
   "id": "081d0383",
   "metadata": {},
   "outputs": [],
   "source": [
    "def translate(sentences, target_language='fr'):\n",
    "    translated = []\n",
    "    for sentence in sentences:\n",
    "        translated_text = model.generate(**tokenizer(sentence, return_tensors=\"pt\", padding=True))\n",
    "        translated.append(tokenizer.decode(translated_text[0], skip_special_tokens=True))\n",
    "    return translated"
   ]
  },
  {
   "cell_type": "markdown",
   "id": "3375c938",
   "metadata": {},
   "source": [
    "translate est une fonction qui prend une liste de phrases (sentences) et traduit chaque phrase vers la langue cible (target_language, par défaut le français).\n",
    "translated est une liste qui stocke les traductions.Pour chaque phrase dans sentences :\n",
    "tokenizer(sentence, return_tensors=\"pt\", padding=True) tokenise la phrase et la convertit en tenseurs PyTorch.\n",
    "model.generate génère la traduction.\n",
    "tokenizer.decode décode la traduction générée en texte lisible, en ignorant les tokens spéciaux.\n",
    "La traduction décodée est ajoutée à la liste translated.\n",
    "La fonction retourne la liste des traductions."
   ]
  },
  {
   "cell_type": "markdown",
   "id": "03fc3d92",
   "metadata": {},
   "source": [
    "Exemple d'utilisation"
   ]
  },
  {
   "cell_type": "code",
   "execution_count": null,
   "id": "1f823e04",
   "metadata": {},
   "outputs": [],
   "source": [
    "translations = translate(abstracts[:10])\n",
    "for translation in translations:\n",
    "    print(translation)"
   ]
  },
  {
   "cell_type": "markdown",
   "id": "33c944fc",
   "metadata": {},
   "source": [
    "abstracts[:10] prend les 10 premières phrases de la liste abstracts (qui n'est pas définie dans le code fourni, mais on suppose qu'il s'agit d'une liste de phrases en anglais).\n",
    "translate(abstracts[:10]) traduit ces phrases en français.\n",
    "Les traductions sont imprimées une par une."
   ]
  },
  {
   "cell_type": "markdown",
   "id": "273e7317",
   "metadata": {},
   "source": [
    "Utilité du code:"
   ]
  },
  {
   "cell_type": "markdown",
   "id": "cd3151ca",
   "metadata": {},
   "source": [
    "Ce code permet de traduire automatiquement des phrases de l'anglais vers le français en utilisant un modèle de traduction neuronale pré-entraîné. C'est particulièrement utile pour les tâches de traduction de texte où une traduction rapide et automatisée est nécessaire."
   ]
  },
  {
   "cell_type": "markdown",
   "id": "b33f10b2",
   "metadata": {},
   "source": [
    "Remarque:"
   ]
  },
  {
   "cell_type": "markdown",
   "id": "574bfc7d",
   "metadata": {},
   "source": [
    "Pour exécuter ce code, vous devez avoir installé la bibliothèque transformers et ses dépendances, y compris PyTorch. Vous pouvez les installer avec :"
   ]
  },
  {
   "cell_type": "code",
   "execution_count": 1,
   "id": "72a17586",
   "metadata": {},
   "outputs": [
    {
     "name": "stdout",
     "output_type": "stream",
     "text": [
      "Title: The Experience of Cancer-Related Cognitive Impairment Across Common Cancers: Protocol for a Qualitative Systematic Review.\n",
      "Authors: [{'lastname': 'Ibrar', 'firstname': 'Maryam', 'initials': 'M', 'affiliation': 'Department of Computer and Information Sciences, University of Strathclyde, Glasgow, United Kingdom.'}, {'lastname': 'Rai', 'firstname': 'Harleen Kaur', 'initials': 'HK', 'affiliation': 'Department of Computer and Information Sciences, University of Strathclyde, Glasgow, United Kingdom.'}, {'lastname': 'Main', 'firstname': 'Ashleigh', 'initials': 'A', 'affiliation': 'Department of Computer and Information Sciences, University of Strathclyde, Glasgow, United Kingdom.'}, {'lastname': 'McCartney', 'firstname': 'Haruno', 'initials': 'H', 'affiliation': 'Department of Computer and Information Sciences, University of Strathclyde, Glasgow, United Kingdom.'}, {'lastname': 'Maguire', 'firstname': 'Roma', 'initials': 'R', 'affiliation': 'Department of Computer and Information Sciences, University of Strathclyde, Glasgow, United Kingdom.'}, {'lastname': 'Rodriguez', 'firstname': 'Mario Alfredo Parra', 'initials': 'MAP', 'affiliation': 'Department of Psychology, University of Strathclyde, Glasgow, United Kingdom.'}]\n",
      "Publication Date: 2024-05-31\n",
      "Abstract: Cancer-related cognitive impairment (CRCI) is commonly experienced by patients with cancer during treatment, and 35% of patients experience cognitive impairment after treatment completion. Impairments in memory, attention, executive functioning, and information processing speed are most reported and often negatively impact daily functioning and quality of life (QoL). Despite the large scale of reports, this adverse side effect is underinvestigated across common cancer types, and there is a lack of insight into the CRCI experience.\n",
      "This qualitative synthesis aims to explore the evidence in relation to the experience of CRCI across common cancers. It also aims to understand the prevalence of CRCI across various cancer types, cognitive domains, and its impact on QoL and functional ability.\n",
      "A comprehensive search of databases, including PubMed, American Psychological Association PsycINFO, CINAHL, and Scopus, will be conducted. A total of 2 independent reviewers will screen titles and abstracts for inclusion, followed by full-text screening. A third reviewer will resolve any arising conflicts in the process of data screening and inclusion. Subsequently, data extraction and quality assessment using the Critical Appraisal Skills Programme (CASP) tool will be conducted. The results will be analyzed using thematic analysis.\n",
      "This review is part of a PhD program funded in January 2023. The review commenced in June 2023, and data analysis is currently in progress. The qualitative synthesis will explore the experiences of CRCI across common cancers. The included studies are expected to report on numerous cancer types such as breast cancer, prostate cancer, leukemia, and lung cancer. The included study types are most likely to be interviews, focus groups, and surveys with qualitative components.\n",
      "This protocol highlights the need for a qualitative synthesis that will explore the experience of CRCI across common cancer types. It will provide valuable insight into the lived experience of CRCI and the cognitive domains that may be disproportionately affected. There is a growing demand for further management interventions and clinically tested treatments of CRCI and the qualitative exploration of patient experience is crucial for their development. This qualitative synthesis will inform future developments and will contribute to improving QoL after cancer.\n",
      "DERR1-10.2196/56888.\n",
      "\n",
      "Title: Ivonescimab Plus Chemotherapy in Non-Small Cell Lung Cancer With EGFR Variant: A Randomized Clinical Trial.\n",
      "Authors: [{'lastname': None, 'firstname': None, 'initials': None, 'affiliation': None}, {'lastname': 'Fang', 'firstname': 'Wenfeng', 'initials': 'W', 'affiliation': 'Sun Yat-sen University Cancer Center, Guangzhou, China.'}, {'lastname': 'Zhao', 'firstname': 'Yuanyuan', 'initials': 'Y', 'affiliation': 'Sun Yat-sen University Cancer Center, Guangzhou, China.'}, {'lastname': 'Luo', 'firstname': 'Yongzhong', 'initials': 'Y', 'affiliation': 'Hunan Cancer Hospital, Changsha, China.'}, {'lastname': 'Yang', 'firstname': 'Runxiang', 'initials': 'R', 'affiliation': 'Yunnan Cancer Hospital, Kunming, China.'}, {'lastname': 'Huang', 'firstname': 'Yan', 'initials': 'Y', 'affiliation': 'Sun Yat-sen University Cancer Center, Guangzhou, China.'}, {'lastname': 'He', 'firstname': 'Zhiyong', 'initials': 'Z', 'affiliation': 'Fujian Provincial Tumor Hospital, Fuzhou, China.'}, {'lastname': 'Zhao', 'firstname': 'Hui', 'initials': 'H', 'affiliation': 'The Second Hospital of Anhui Medical University, Hefei, China.'}, {'lastname': 'Li', 'firstname': 'Mingjun', 'initials': 'M', 'affiliation': 'The First Affiliated Hospital of Zhengzhou University, Zhengzhou, China.'}, {'lastname': 'Li', 'firstname': 'Kai', 'initials': 'K', 'affiliation': 'Tianjin Medical University Cancer Institute & Hospital, Tianjin, China.'}, {'lastname': 'Song', 'firstname': 'Qibing', 'initials': 'Q', 'affiliation': 'Renmin Hospital of Wuhan University, Wuhan, China.'}, {'lastname': 'Du', 'firstname': 'Xiaobo', 'initials': 'X', 'affiliation': 'Mianyang Central Hospital, Mianyang, China.'}, {'lastname': 'Sun', 'firstname': 'Yulan', 'initials': 'Y', 'affiliation': 'Shandong Cancer Prevention and Treatment Institute, Jinan, China.'}, {'lastname': 'Li', 'firstname': 'Wei', 'initials': 'W', 'affiliation': 'The First Affiliated Hospital of Bengbu Medical University, Bengbu, China.'}, {'lastname': 'Xu', 'firstname': 'Fei', 'initials': 'F', 'affiliation': 'The First Affiliated Hospital of Nanchang University, Nanchang, China.'}, {'lastname': 'Wang', 'firstname': 'Zhiyu', 'initials': 'Z', 'affiliation': 'The Fourth Hospital of Hebei Medical University, Shijiazhuang, China.'}, {'lastname': 'Yang', 'firstname': 'Kunning', 'initials': 'K', 'affiliation': \"Weifang No. 2 People's Hospital, Weifang, China.\"}, {'lastname': 'Fan', 'firstname': 'Yun', 'initials': 'Y', 'affiliation': 'Zhejiang Cancer Hospital, Hangzhou, China.'}, {'lastname': 'Liu', 'firstname': 'Baogang', 'initials': 'B', 'affiliation': 'Harbin Medical University Cancer Hospital, Harbin, China.'}, {'lastname': 'Zhao', 'firstname': 'Hongyun', 'initials': 'H', 'affiliation': 'Sun Yat-sen University Cancer Center, Guangzhou, China.'}, {'lastname': 'Hu', 'firstname': 'Ying', 'initials': 'Y', 'affiliation': 'Beijing Chest Hospital, Capital Medical University, Beijing, China.'}, {'lastname': 'Jia', 'firstname': 'Li', 'initials': 'L', 'affiliation': 'Yuncheng Central Hospital of Shanxi Province, Yuncheng, China.'}, {'lastname': 'Xu', 'firstname': 'Shen', 'initials': 'S', 'affiliation': 'Zhangzhou Municipal Hospital of Fujian Province, Zhangzhou, China.'}, {'lastname': 'Yi', 'firstname': 'Tienan', 'initials': 'T', 'affiliation': 'Xiangyang Central Hospital, Xiangyang, China.'}, {'lastname': 'Lv', 'firstname': 'Dongqing', 'initials': 'D', 'affiliation': 'Taizhou Municipal Hospital, Taizhou, China.'}, {'lastname': 'Lan', 'firstname': 'Haitao', 'initials': 'H', 'affiliation': \"Sichuan Provincial People's Hospital, Chengdu, China.\"}, {'lastname': 'Li', 'firstname': 'Mengxia', 'initials': 'M', 'affiliation': \"Army Medical Center of Chinese People's Liberation Army, Chongqing, China.\"}, {'lastname': 'Liang', 'firstname': 'Wenhua', 'initials': 'W', 'affiliation': 'The First Affiliated Hospital of Guangzhou Medical University, Guangzhou, China.'}, {'lastname': 'Wang', 'firstname': 'Yongsheng', 'initials': 'Y', 'affiliation': 'West China Hospital of Sichuan University, Chengdu, China.'}, {'lastname': 'Yang', 'firstname': 'Hui', 'initials': 'H', 'affiliation': 'The Second Affiliated Hospital of Xiamen Medical College, Xiamen, China.'}, {'lastname': 'Jia', 'firstname': 'Yuming', 'initials': 'Y', 'affiliation': \"Yibin Second People's Hospital, Yibin, China.\"}, {'lastname': 'Chen', 'firstname': 'Yuan', 'initials': 'Y', 'affiliation': 'Tongji Hospital of Tongji Medical College of Hust, Wuhan, China.'}, {'lastname': 'Lu', 'firstname': 'Junguo', 'initials': 'J', 'affiliation': 'Nantong Tumor Hospital, Nantong, China.'}, {'lastname': 'Feng', 'firstname': 'Jifeng', 'initials': 'J', 'affiliation': 'Jiangsu Cancer Hospital, Nanjing, China.'}, {'lastname': 'Liu', 'firstname': 'Chunling', 'initials': 'C', 'affiliation': 'Affiliated Tumor Hospital of Xinjiang Medical University, Urumqi, China.'}, {'lastname': 'Zhou', 'firstname': 'Ming', 'initials': 'M', 'affiliation': 'Affiliated Cancer Hospital and Institution of Guangzhou Medical University, Guangzhou, China.'}, {'lastname': 'Zhou', 'firstname': 'Jianya', 'initials': 'J', 'affiliation': 'The First Affiliated Hospital of Zhejiang University School of Medicine, Hangzhou, China.'}, {'lastname': 'Liu', 'firstname': 'Xianling', 'initials': 'X', 'affiliation': 'The Second Xiangya Hospital of Central South University, Changsha, China.'}, {'lastname': 'Zhou', 'firstname': 'Ningning', 'initials': 'N', 'affiliation': 'Sun Yat-sen University Cancer Center, Guangzhou, China.'}, {'lastname': 'He', 'firstname': 'Ming', 'initials': 'M', 'affiliation': 'The Fourth Hospital of Hebei Medical University, Shijiazhuang, China.'}, {'lastname': 'Dong', 'firstname': 'Xiaorong', 'initials': 'X', 'affiliation': 'Union Hospital Tongji Medical College Huazhong University of Science and Technology, Wuhan, China.'}, {'lastname': 'Chen', 'firstname': 'Hualin', 'initials': 'H', 'affiliation': 'Affiliated Hospital of Guangdong Medical University, Guangzhou, China.'}, {'lastname': 'Chen', 'firstname': 'Yongxing', 'initials': 'Y', 'affiliation': 'Hainan General Hospital, Haikou, China.'}, {'lastname': 'Su', 'firstname': 'Haichuan', 'initials': 'H', 'affiliation': \"Tangdu Hospital of the Fourth Military Medical University, Xi'an, China.\"}, {'lastname': 'Li', 'firstname': 'Xiaoling', 'initials': 'X', 'affiliation': 'Liaoning Cancer Hospital & Institute, Cancer Hospital of Dalian University of Technology, Shenyang, China.'}, {'lastname': 'Zhang', 'firstname': 'Zhihong', 'initials': 'Z', 'affiliation': 'Anhui Provincial Cancer Hospital, Hefei, China.'}, {'lastname': 'Yang', 'firstname': 'Lei', 'initials': 'L', 'affiliation': 'Gansu Provincial Cancer Hospital, Lanzhou, China.'}, {'lastname': 'Cheng', 'firstname': 'Ying', 'initials': 'Y', 'affiliation': 'Jilin Cancer Hospital, Changchun, China.'}, {'lastname': 'Chen', 'firstname': 'Likun', 'initials': 'L', 'affiliation': 'Sun Yat-sen University Cancer Center, Guangzhou, China.'}, {'lastname': 'Hou', 'firstname': 'Xue', 'initials': 'X', 'affiliation': 'Sun Yat-sen University Cancer Center, Guangzhou, China.'}, {'lastname': 'Zhang', 'firstname': 'Yu', 'initials': 'Y', 'affiliation': 'Nanjing Chest Hospital, Nanjing, China.'}, {'lastname': 'Guo', 'firstname': 'Jun', 'initials': 'J', 'affiliation': \"Xingtai People's Hospital, Xingtai, China.\"}, {'lastname': 'Wang', 'firstname': 'Zhen', 'initials': 'Z', 'affiliation': 'Linyi Cancer Hospital, Linyi, China.'}, {'lastname': 'Lu', 'firstname': 'Hong', 'initials': 'H', 'affiliation': 'Huaihe Hospital of Henan University, Kaifeng, China.'}, {'lastname': 'Wu', 'firstname': 'Di', 'initials': 'D', 'affiliation': \"Shenzhen Institute of Respiratory Diseases, Shenzhen People's Hospital (First Affiliated Hospital of Southern University of Science and Technology, Second Clinical Medical College of Jinan University), Shenzhen, China.\"}, {'lastname': 'Feng', 'firstname': 'Weineng', 'initials': 'W', 'affiliation': \"The First People's Hospital of Foshan, Foshan, China.\"}, {'lastname': 'Li', 'firstname': 'Wen', 'initials': 'W', 'affiliation': 'The Second Affiliated Hospital Zhejiang University School of Medicine, Hangzhou, China.'}, {'lastname': 'Huang', 'firstname': 'Jianan', 'initials': 'J', 'affiliation': 'The First Affiliated Hospital of Soochow University, Suzhou, China.'}, {'lastname': 'Wang', 'firstname': 'Yan', 'initials': 'Y', 'affiliation': 'General Hospital of Ningxia Medical University, Yinchuan, China.'}, {'lastname': 'Song', 'firstname': 'Xia', 'initials': 'X', 'affiliation': 'Shanxi Cancer Hospital, Taiyuan, China.'}, {'lastname': 'Peng', 'firstname': 'Jiewen', 'initials': 'J', 'affiliation': \"Zhongshan City People's Hospital, Zhongshan, China.\"}, {'lastname': 'Liu', 'firstname': 'Laiyu', 'initials': 'L', 'affiliation': 'Nanfang Hospital Nanfang Medical University, Guangzhou, China.'}, {'lastname': 'Guo', 'firstname': 'Yubiao', 'initials': 'Y', 'affiliation': 'The First Affiliated Hospital, Sun Yat-sen University, Guangzhou, China.'}, {'lastname': 'Li', 'firstname': 'Wenting', 'initials': 'W', 'affiliation': 'Akeso Biopharma, Inc, Zhongshan, China.'}, {'lastname': 'Lu', 'firstname': 'Dongmei', 'initials': 'D', 'affiliation': 'Akeso Biopharma, Inc, Zhongshan, China.'}, {'lastname': 'Hu', 'firstname': 'Mingxiu', 'initials': 'M', 'affiliation': 'Akeso Biopharma, Inc, Zhongshan, China.'}, {'lastname': 'Wang', 'firstname': 'Zhongmin Maxwell', 'initials': 'ZM', 'affiliation': 'Akeso Biopharma, Inc, Zhongshan, China.'}, {'lastname': 'Li', 'firstname': 'Baiyong', 'initials': 'B', 'affiliation': 'Akeso Biopharma, Inc, Zhongshan, China.'}, {'lastname': 'Xia', 'firstname': 'Michelle', 'initials': 'M', 'affiliation': 'Akeso Biopharma, Inc, Zhongshan, China.'}, {'lastname': 'Zhang', 'firstname': 'Li', 'initials': 'L', 'affiliation': 'Sun Yat-sen University Cancer Center, Guangzhou, China.'}]\n",
      "Publication Date: 2024-05-31\n",
      "Abstract: For patients with non-small cell lung cancer whose disease progressed while receiving EGFR tyrosine kinase inhibitor (EGFR-TKI) therapy, particularly third-generation TKIs, optimal treatment options remain limited.\n",
      "To compare the efficacy of ivonescimab plus chemotherapy with chemotherapy alone for patients with relapsed advanced or metastatic non-small cell lung cancer with the epidermal growth factor receptor (EGFR) variant.\n",
      "Double-blind, placebo-controlled, randomized, phase 3 trial at 55 sites in China enrolled participants from January 2022 to November 2022; a total of 322 eligible patients were enrolled.\n",
      "Participants received ivonescimab (n = 161) or placebo (n = 161) plus pemetrexed and carboplatin once every 3 weeks for 4 cycles, followed by maintenance therapy of ivonescimab plus pemetrexed or placebo plus pemetrexed.\n",
      "The primary end point was progression-free survival in the intention-to-treat population assessed by an independent radiographic review committee (IRRC) per Response Evaluation Criteria in Solid Tumors version 1.1. The results of the first planned interim analysis are reported.\n",
      "Among 322 enrolled patients in the ivonescimab and placebo groups, the median age was 59.6 vs 59.4 years and 52.2% vs 50.9% of patients were female. As of March 10, 2023, median follow-up time was 7.89 months. Median progression-free survival was 7.1 (95% CI, 5.9-8.7) months in the ivonescimab group vs 4.8 (95% CI, 4.2-5.6) months for placebo (difference, 2.3 months; hazard ratio [HR], 0.46 [95% CI, 0.34-0.62]; P < .001). The prespecified subgroup analysis showed progression-free survival benefit favoring patients receiving ivonescimab over placebo across almost all subgroups, including patients whose disease progressed while receiving third-generation EGFR-TKI therapy (HR, 0.48 [95% CI 0.35-0.66]) and those with brain metastases (HR, 0.40 [95% CI, 0.22-0.73]). The objective response rate was 50.6% (95% CI, 42.6%-58.6%) with ivonescimab and 35.4% (95% CI, 28.0%-43.3%) with placebo (difference, 15.6% [95% CI, 5.3%-26.0%]; P = .006). The median overall survival data were not mature; at data cutoff, 69 patients (21.4%) had died. Grade 3 or higher treatment-emergent adverse events occurred in 99 patients (61.5%) in the ivonescimab group vs 79 patients (49.1%) in the placebo group, the most common of which were chemotherapy-related. Grade 3 or higher immune-related adverse events occurred in 10 patients (6.2%) in the ivonescimab group vs 4 (2.5%) in the placebo group. Grade 3 or higher vascular endothelial growth factor-related adverse events occurred in 5 patients (3.1%) in the ivonescimab group vs 4 (2.5%) in the placebo group.\n",
      "Ivonescimab plus chemotherapy significantly improved progression-free survival with tolerable safety profile in TKI-treated non-small cell lung cancer.\n",
      "ClinicalTrials.gov Identifier: NCT05184712.\n",
      "\n",
      "Title: Clinical value of nano-carbon lymphatic tracer for regional lymph node dissections of rectal cancer after neoadjuvant chemoradiotherapy.\n",
      "Authors: [{'lastname': 'Shao', 'firstname': 'Feng', 'initials': 'F', 'affiliation': 'Department of Anorectal surgery, Dongyang People Hospital (affiliated Dongyang Hospital of Wenzhou Medical University), Dongyang, Zhejiang province, China.'}, {'lastname': 'Zhou', 'firstname': 'Qi', 'initials': 'Q', 'affiliation': 'Department of Anorectal surgery, Dongyang People Hospital (affiliated Dongyang Hospital of Wenzhou Medical University), Dongyang, Zhejiang province, China.'}, {'lastname': 'Yu', 'firstname': 'Fei', 'initials': 'F', 'affiliation': 'Department of Anorectal surgery, Dongyang People Hospital (affiliated Dongyang Hospital of Wenzhou Medical University), Dongyang, Zhejiang province, China.'}, {'lastname': 'Pan', 'firstname': 'Lelin', 'initials': 'L', 'affiliation': 'The First Affilated Hospital, Zhejiang University School of Medicine Qingchunlu, Zhejiang, China.'}, {'lastname': 'Li', 'firstname': 'Lijun', 'initials': 'L', 'affiliation': 'Department of Anorectal surgery, Dongyang People Hospital (affiliated Dongyang Hospital of Wenzhou Medical University), Dongyang, Zhejiang province, China.'}]\n",
      "Publication Date: 2024-05-31\n",
      "Abstract: Regional lymph node (LN) volume decreases after neoadjuvant therapy, requiring a tracer for more accurate detection. Nano-carbon tracer is a third-generation tracer with several advantages, but its use for LN detection after neoadjuvant chemoradiotherapy for middle and low rectal cancer remains unclear. Therefore, this study investigated the effects and safety of anoscope-guided subrectal injections of nano-carbon suspension in this patient population.\n",
      "This study retrospectively reviewed the medical records of 45 patients with middle and low rectal cancer admitted to our institution from March 2019 to March 2022. All patients received preoperative neoadjuvant chemotherapy and radiotherapy and were divided into nano-carbon injection (n = 23; anoscope-guided injections of nano-carbon suspension in the rectal submucosa 2 cm above the dentate line 24 h preoperatively) and control (n = 22; directly underwent surgery) groups. The LN detection and complication rates were compared between the groups.\n",
      "The total and mean numbers of LNs and small LNs and the number of patients with > 12 LNs were significantly higher in the nano-carbon injection group than in the control group. The total number of positive LNs and LN metastasis did not differ between the groups, nor did the anastomotic leakage, bleeding, stenosis, and abscess occurrence rates.\n",
      "Anoscope-guided nano-carbon lymphatic tracing increased the LN detection rate, caused less trauma, and resulted in fewer postoperative complications than the direct surgical procedure. Thus, it is an effective, safe, and practical method that may improve dissections and the postoperative pathological staging accuracy.\n",
      "\n",
      "Title: Randomized Bendamustine-Rituximab(R) + Bortezomib Induction and R + Lenalidomide Maintenance for Mantle Cell Lymphoma.\n",
      "Authors: [{'lastname': 'Smith', 'firstname': 'Mitchell Reed', 'initials': 'MR', 'affiliation': 'Cleveland Clinica Taussig Cancer Institute, United States.'}, {'lastname': 'Jegede', 'firstname': 'Opeyemi', 'initials': 'O', 'affiliation': 'Dana Farber Cancer Institute, Boston, Massachusetts, United States.'}, {'lastname': 'Martin', 'firstname': 'Peter', 'initials': 'P', 'affiliation': 'Weill Cornell Medical College, New York, New York, United States.'}, {'lastname': 'Till', 'firstname': 'Brian', 'initials': 'B', 'affiliation': 'Fred Hutchinson Cancer Research Center, Seattle, Washington, United States.'}, {'lastname': 'Parekh', 'firstname': 'Samir', 'initials': 'S', 'affiliation': 'Icahn School of Medicine at Mount Sinai, NEW YORK, New York, United States.'}, {'lastname': 'Yang', 'firstname': 'David T', 'initials': 'DT', 'affiliation': 'University of Wisconsin, Madison, Wisconsin, United States.'}, {'lastname': 'Hsi', 'firstname': 'Eric D', 'initials': 'ED', 'affiliation': 'Mayo Clinic, Minnesota, United States.'}, {'lastname': 'Witzig', 'firstname': 'Thomas E', 'initials': 'TE', 'affiliation': 'Mayo Clinic, Rochester, Minnesota, United States.'}, {'lastname': 'Dave', 'firstname': 'Sandeep S', 'initials': 'SS', 'affiliation': 'Duke University, Durham, North Carolina, United States.'}, {'lastname': 'Scott', 'firstname': 'David W', 'initials': 'DW', 'affiliation': 'BC Cancer, Vancouver, British Columbia, Canada.'}, {'lastname': 'Hanson', 'firstname': 'Curtis A', 'initials': 'CA', 'affiliation': 'Mayo Clinic, Rochester, Minnesota, United States.'}, {'lastname': 'Kostakoglu', 'firstname': 'Lale', 'initials': 'L', 'affiliation': 'NYU Langone Cancer Center, United States.'}, {'lastname': 'Abdel Samad', 'firstname': 'Nizar N', 'initials': 'NN', 'affiliation': 'The Moncton Hospital, Moncton, Canada.'}, {'lastname': 'Casulo', 'firstname': 'Carla', 'initials': 'C', 'affiliation': 'University of Rochester, Rochester, New York, United States.'}, {'lastname': 'Bartlett', 'firstname': 'Nancy L', 'initials': 'NL', 'affiliation': 'Siteman Cancer Center, Washington University School of Medicine, St Louis, Missouri, United States.'}, {'lastname': 'Caimi', 'firstname': 'Paolo F', 'initials': 'PF', 'affiliation': 'Cleveland Clinic Taussig Cancer Institute, Cleveland, Ohio, United States.'}, {'lastname': 'Al Baghdadi', 'firstname': 'Tareq', 'initials': 'T', 'affiliation': 'Michigan Cancer Research Consortium, Ypsilanti, Michigan, United States.'}, {'lastname': 'Blum', 'firstname': 'Kristie', 'initials': 'K', 'affiliation': 'The Ohio State University James Cancer Hospital.'}, {'lastname': 'Romer', 'firstname': 'Mark', 'initials': 'M', 'affiliation': 'Good Samaritan Hospital, Dayton, Ohio, United States.'}, {'lastname': 'Inwards', 'firstname': 'David J', 'initials': 'DJ', 'affiliation': 'Mayo Clinic, Rochester, Minnesota, United States.'}, {'lastname': 'Lerner', 'firstname': 'Rachel', 'initials': 'R', 'affiliation': 'HealthPartners, Minneapolis, Minnesota, United States.'}, {'lastname': 'Wagner', 'firstname': 'Lynne', 'initials': 'L', 'affiliation': 'University of North Carolina, United States.'}, {'lastname': 'Little', 'firstname': 'Richard F', 'initials': 'RF', 'affiliation': 'National Cancer Institute, Bethesda, Maryland, United States.'}, {'lastname': 'Friedberg', 'firstname': 'Jonathan W', 'initials': 'JW', 'affiliation': 'University of Rochester, Rochester, New York, United States.'}, {'lastname': 'Leonard', 'firstname': 'John P', 'initials': 'JP', 'affiliation': 'Weill Medical College of Cornell University and New York Presbyterian Hospital, New York, New York, United States.'}, {'lastname': 'Kahl', 'firstname': 'Brad S', 'initials': 'BS', 'affiliation': 'Washington University in St. Louis, Staint Louis, Missouri, United States.'}]\n",
      "Publication Date: 2024-05-31\n",
      "Abstract: While initial therapy of mantle cell lymphoma (MCL) is not standardized, bendamustine-rituximab (BR) is commonly used in older patients. Rituximab (R) maintenance following induction is often utilized. Thus, the open-label, randomized phase II ECOG-ACRIN Cancer Research Group E1411 trial was designed to test two questions: 1) Does addition of bortezomib to BR induction (BVR) and/or 2) addition of lenalidomide to rituximab (LR) maintenance improve progression-free survival (PFS) in patients with treatment-naïve MCL? From 2012-2016, 373 previously untreated patients, 87% ≥ 60 years old, were enrolled in this trial. At a median follow up of 7.5 years, there is no difference in the median PFS of BR compared to BVR (5.5 yrs vs. 6.4 yrs, HR 0.90, 90% CI 0.70, 1.16). There were no unexpected additional toxicities with BVR treatment compared to BR, with no impact on total dose/duration of treatment received. Independent of the induction treatment, addition of lenalidomide to rituximab did not significantly improve PFS, with median PFS in R vs LR (5.9 yrs vs 7.2 yrs, HR 0.84 90% CI 0.62, 1.15). The majority of patients completed the planned 24 cycles of LR at the scheduled dose. In summary, adding bortezomib to BR induction does not prolong PFS in treatment-naïve MCL, and LR maintenance was not associated with longer PFS compared with rituximab alone following BR. Nonetheless, the > 5 year median PFS outcomes in this prospective cooperative group trial indicate the efficacy of BR followed by rituximab maintenance as highly effective initial therapy for older MCL patients. (NCT01415752).\n",
      "\n",
      "Title: Integrative Therapies in Cancer Care: An Update on the Guidelines.\n",
      "Authors: [{'lastname': 'Gowin', 'firstname': 'Krisstina', 'initials': 'K', 'affiliation': 'Division of Hematology Oncology, Department of Medicine, University of Arizona, Tucson, AZ.'}, {'lastname': 'Muminovic', 'firstname': 'Meri', 'initials': 'M', 'affiliation': 'Department of Hematology-Oncology, Memorial Cancer Institute, Memorial Healthcare System, Miami, FL.'}, {'lastname': 'Zick', 'firstname': 'Suzanna M', 'initials': 'SM', 'affiliation': 'Family Medicine and Nutritional Sciences, University of Michigan, Ann Arbor, MI.'}, {'lastname': 'Lee', 'firstname': 'Richard T', 'initials': 'RT', 'affiliation': 'Departments of Supportive Care Medicine and Medical Oncology, City of Hope Comprehensive Cancer Center, Irvine, CA.'}, {'lastname': 'Lacchetti', 'firstname': 'Christina', 'initials': 'C', 'affiliation': 'Senior Clinical Practice Guidelines Methodologist, American Society of Clinical Oncology, Alexandria, VA.'}, {'lastname': 'Mehta', 'firstname': 'Ashwin', 'initials': 'A', 'affiliation': 'Memorial Division of Integrative Medicine, Memorial Healthcare System, Hollywood, FL.'}]\n",
      "Publication Date: 2024-05-31\n",
      "Abstract: ASCO and the Society for Integrative Oncology have collaborated to develop guidelines for the application of integrative approaches in the management of anxiety, depression, fatigue and use of cannabinoids and cannabis in patients with cancer. These guidelines provide evidence-based recommendations to improve outcomes and quality of life by enhancing conventional cancer treatment with integrative modalities.\n",
      "All studies that informed the guideline recommendations were reviewed by an Expert Panel which was made up of a patient advocate, an ASCO methodologist, oncology providers, and integrative medicine experts. Panel members reviewed each trial for quality of evidence, determined a grade quality assessment label, and concluded strength of recommendations.\n",
      "Strong recommendations for management of cancer fatigue during treatment were given to both in-person or web-based mindfulness-based stress reduction, mindfulness-based cognitive therapy, and tai chi or qigong. Strong recommendations for management of cancer fatigue after cancer treatment were given to mindfulness-based programs. Clinicians should recommend against using cannabis or cannabinoids as a cancer-directed treatment unless within the context of a clinical trial. The recommended modalities for managing anxiety included Mindfulness-Based Interventions (MBIs), yoga, hypnosis, relaxation therapies, music therapy, reflexology, acupuncture, tai chi, and lavender essential oils. The strongest recommendation in the guideline is that MBIs should be offered to people with cancer, both during active treatment and post-treatment, to address depression.\n",
      "The evidence for integrative interventions in cancer care is growing, with research now supporting benefits of integrative interventions across the cancer care continuum.\n",
      "\n",
      "Title: Health-related quality of life and associated factors among family caregivers of patients with cancer in oncologic centers of Northwest Ethiopia.\n",
      "Authors: [{'lastname': 'Tamene', 'firstname': 'Fasil Bayafers', 'initials': 'FB', 'affiliation': 'Department of Pharmacy, College of Medicine and Health Science, Debre Markos University, Debre Markos, Ethiopia.'}, {'lastname': 'Mihiretie', 'firstname': 'Endalamaw Aschale', 'initials': 'EA', 'affiliation': 'Department of Pharmacy, College of Medicine and Health Science, Bahir Dar University, Bahir Dar, Ethiopia.'}, {'lastname': 'Desalew', 'firstname': 'Akalu Fetene', 'initials': 'AF', 'affiliation': 'Department of Pharmacy, College of Medicine and Health Science, Debre Markos University, Debre Markos, Ethiopia.'}, {'lastname': 'Tafesse', 'firstname': 'Fasika Argaw', 'initials': 'FA', 'affiliation': 'Department of Pharmacy, College of Medicine and Health Science, Dilla University, Dilla, Ethiopia.'}, {'lastname': 'Wondm', 'firstname': 'Samuel Agegnew', 'initials': 'SA', 'affiliation': 'Department of Pharmacy, College of Medicine and Health Science, Debre Markos University, Debre Markos, Ethiopia.'}]\n",
      "Publication Date: 2024-05-31\n",
      "Abstract: Providing care for individuals dealing with long-term illnesses like cancer demands significant amounts of time, energy, and emotional investment, potentially resulting in a challenging and overwhelming quality of life for those providing the care.\n",
      "The purpose of this study was to assess the level of health-related quality of life (HRQoL) and associated factors among family caregivers of patients with cancer in oncologic centers of Northwest Ethiopia.\n",
      "A cross-sectional study was conducted among 412 family caregivers of patients with cancer who were following treatment at oncologic centers in Northwest Ethiopia from August to October 2023. Systematic random sampling was used to enroll study participants. Epi-data version 4.6.1 and SPSS version 26 were used for data entry and analysis, respectively. The relationship between quality of life and independent variables was examined using linear regression. Statistical significance was determined for variables having a p-value of less than 0.05 at a 95% confidence range.\n",
      "A total of 412 eligible caregivers were included in the study out of 422 approached samples, yielding a 97.6% response rate. The mean score of the overall Quality of Life Brief-Scale Version was 52.7 ± 9.57. Being Spouse (β = -3.39; 95% CI: -6.49, -0.29), presence of chronic illness (β = -3.43; 95% CI: -5.56, -1.31), depression, (β = -2.55; 95% CI: -4.34, -0.75), anxiety (β = -3.27; 95% CI: -5.22, -1.32),and social support, (β = -3.61; 95% CI: -6.20, -1.02) were negatively associated with quality of life.\n",
      "In this study, the psychological domain had the lowest mean score. Caregivers being as spouse, who were with chronic illness, manifested depression and anxiety and had a poor social support needs attention and support to improve HRQoL.\n",
      "\n",
      "Title: Flow cytometric profiles with CD7 and CADM1 in CD4+ T cells are promising indicator for prognosis of aggressive ATL.\n",
      "Authors: [{'lastname': 'Jimbo', 'firstname': 'Koji', 'initials': 'K', 'affiliation': 'The Institute of Medical Science, The University of Tokyo, Tokyo, Japan.'}, {'lastname': 'Kawamata', 'firstname': 'Toyotaka', 'initials': 'T', 'affiliation': 'Tokyo Metropolitan Bokutoh Hospital, Tokyo, Japan.'}, {'lastname': 'Inamoto', 'firstname': 'Yoshihiro', 'initials': 'Y', 'affiliation': 'National Cancer Center Hospital, Japan.'}, {'lastname': 'Ito', 'firstname': 'Ayumu', 'initials': 'A', 'affiliation': 'National Cancer Center Hospital, Tokyo, Japan.'}, {'lastname': 'Yokoyama', 'firstname': 'Kazuaki', 'initials': 'K', 'affiliation': 'Institute of Medical Science, the Univ of Tokyo, Tokyo, Japan.'}, {'lastname': 'Sato', 'firstname': 'Aki', 'initials': 'A', 'affiliation': 'The Institute of Medical Science, The University of Tokyo, Tokyo, Japan.'}, {'lastname': 'Fukuda', 'firstname': 'Takahiro', 'initials': 'T', 'affiliation': 'National Cancer Center Hospital, Tokyo, Japan.'}, {'lastname': 'Uchimaru', 'firstname': 'Kaoru', 'initials': 'K', 'affiliation': 'the University of Tokyo, Minato-Ku, Japan.'}, {'lastname': 'Nannya', 'firstname': 'Yasuhito', 'initials': 'Y', 'affiliation': 'The University of Tokyo, Tokyo, Japan.'}]\n",
      "Publication Date: 2024-05-31\n",
      "Abstract: Adult T-cell leukemia/lymphoma (ATL) is a poor prognosis hematological malignancy originating from human T-cell leukemia virus (HTLV)-1-infected CD4+ T cells. Flow cytometric plots of CADM1 and CD7 in CD4+ T cells are useful for separating HTLV-1-uninfected T cells and ATL cells. They are indicators of clonal evolution of HTLV-1 infected cells and disease progression of asymptomatic carriers or indolent ATL. However, the impacts of the plots on the clinical course or prognosis of ATL, especially in aggressive ATL, remain unclear. We focused on the N fraction (CD4+ CADM1+ CD7-) reflecting ATL cells and analyzed the flow cytometric profiles and clinical course of 497 samples from 92 HTLV-1-infected patients that were mainly aggressive ATL. The parameters based on N fractions showed significant correlations with known indicators of ATL disease status (sIL-2R, LDH, abnormal lymphocytes, etc.) and sensitively reflected the treatment response of aggressive ATL. The parameters based on N fractions significantly stratified the prognosis of aggressive ATL at four different time points: before treatment, after one course of chemotherapy, at the best response after chemotherapy, and before allo-HCT. Even after mogamulizumab administration, which shows potent effects for peripheral blood lesions, the N fraction was still a useful indicator for prognostic estimation. In summary, this report shows that CADM1 versus CD7 plots in CD4+ T cells are useful indicators of the clinical course and prognosis of aggressive ATL. Therefore, this CADM1 and CD7 profile is suggested to be a useful prognostic indicator consistently from HTLV-1 carriers to aggressive ATL.\n",
      "\n",
      "Title: Safety and efficacy of luspatercept for the treatment of anemia in patients with myelofibrosis.\n",
      "Authors: [{'lastname': 'Gerds', 'firstname': 'Aaron T', 'initials': 'AT', 'affiliation': 'Cleveland Clinic Taussig Cancer Institute, Cleveland, California, United States.'}, {'lastname': 'Harrison', 'firstname': 'Claire N', 'initials': 'CN', 'affiliation': \"Guy's and St Thomas' NHS Foundation Trust, London, United Kingdom.\"}, {'lastname': 'Kiladjian', 'firstname': 'Jean-Jacques', 'initials': 'JJ', 'affiliation': 'Hôpital Saint-Louis & Université de Paris, Paris, France.'}, {'lastname': 'Mesa', 'firstname': 'Ruben', 'initials': 'R', 'affiliation': 'Wake Forest University School of Medicine, Charlotte, North Carolina, United States.'}, {'lastname': 'Vannucchi', 'firstname': 'Alessandro Maria', 'initials': 'AM', 'affiliation': 'CRIMM, Center Research and Innovation of Myeloproliferative Neoplasms. University of Florence and AOU Careggi, Florence, Italy.'}, {'lastname': 'Komrokji', 'firstname': 'Rami S', 'initials': 'RS', 'affiliation': 'H. Lee Moffitt Cancer Center, Tampa, Florida, United States.'}, {'lastname': 'Bose', 'firstname': 'Prithviraj', 'initials': 'P', 'affiliation': 'University of Texas MD Anderson Cancer Center, Houston, Texas, United States.'}, {'lastname': 'Kremyanskaya', 'firstname': 'Marina', 'initials': 'M', 'affiliation': 'Mount Sinai School of Medicine, New York, New York, United States.'}, {'lastname': 'Mead', 'firstname': 'Adam', 'initials': 'A', 'affiliation': 'MRC Weatherall Institute of Molecular Medicine, NIHR Oxford Biomedical Research Centre, University of Oxford, United Kingdom.'}, {'lastname': 'Gotlib', 'firstname': 'Jason', 'initials': 'J', 'affiliation': 'Stanford Cancer Institute, Stanford, California, United States.'}, {'lastname': 'Rose', 'firstname': 'Shelonitda', 'initials': 'S', 'affiliation': 'Bristol Myers Squibb, United States.'}, {'lastname': 'Sanabria', 'firstname': 'Fabian', 'initials': 'F', 'affiliation': 'Bristol Myers Squibb, Boudry, Switzerland.'}, {'lastname': 'Marsousi', 'firstname': 'Niloufar', 'initials': 'N', 'affiliation': 'Bristol Myers Squibb, Boudry, Switzerland.'}, {'lastname': 'Giuseppi', 'firstname': 'Ana Carolina', 'initials': 'AC', 'affiliation': 'Bristol Myers Squibb, Lawrence Township, New Jersey, United States.'}, {'lastname': 'Jiang', 'firstname': 'Huijing', 'initials': 'H', 'affiliation': 'Bristol Myers Squibb, Lawrence Township, New Jersey, United States.'}, {'lastname': 'Palmer', 'firstname': 'Jeanne M', 'initials': 'JM', 'affiliation': 'Mayo Clinic, Phoenix, Arizona, United States.'}, {'lastname': 'McCaul', 'firstname': 'Kelly', 'initials': 'K', 'affiliation': 'University of Tennessee Medical Center, Knoxville, Tennessee, United States.'}, {'lastname': 'Ribrag', 'firstname': 'Vincent', 'initials': 'V', 'affiliation': 'Institut Gustave Roussy, Villejuif, France.'}, {'lastname': 'Passamonti', 'firstname': 'Francesco', 'initials': 'F', 'affiliation': \"Fondazione IRCCS Ca' Granda Ospedale Maggiore Policlinico, Milan, Italy.\"}]\n",
      "Publication Date: 2024-05-31\n",
      "Abstract: The ACE-536-MF-001 trial enrolled patients with myelofibrosis (n = 95) into 4 cohorts: patients in cohorts 1 and 3A were non-transfusion dependent (NTD) and had anemia; patients in cohorts 2 and 3B were transfusion dependent (TD); patients in cohort 3A/3B had stable ruxolitinib treatment prior to and during the study. All patients received luspatercept (1.0-1.75 mg/kg, 21-day cycles). Treatment was extended if clinical benefit was observed at day 169. The primary endpoint was anemia response rate (NTD, ≥1.5 g/dL hemoglobin increase from baseline; TD, transfusion-independence) over any 12-week period during the primary treatment period (weeks 1-24). Overall, 14% of patients in cohorts 1 and 3A, 10% in cohort 2, and 26% in cohort 3B met the primary endpoint. In cohorts 1 and 3A (NTD), 27% and 50% of patients respectively had mean hemoglobin increase ≥1.5 g/dL from baseline. Among TD patients, ~50% had ≥50% reduction in transfusion burden. Reduction in total symptom score was observed in all cohorts, with the greatest response rate seen in cohort 3A. Overall, 94% of patients had ≥1 adverse event (AE); 47% had ≥1 treatment-related AE (TRAE; 11% grade ≥3), most frequently hypertension (18%), managed with medical intervention. One patient had a serious TRAE leading to luspatercept discontinuation. Nine patients died on treatment (unrelated to study drug). In most patients, ruxolitinib dose and spleen size remained stable. In patients with myelofibrosis, luspatercept improved anemia and transfusion burden across cohorts; the safety profile was consistent with previous studies. NCT03194542 clinicaltrials.gov.\n",
      "\n",
      "Title: Dynamic heterogeneity in COVID-19: Insights from a mathematical model.\n",
      "Authors: [{'lastname': 'Voutouri', 'firstname': 'Chrysovalantis', 'initials': 'C', 'affiliation': 'Department of Radiation Oncology, Edwin L Steele Laboratories, Massachusetts General Hospital and Harvard Medical School, Boston, MA, United States of America.\\nDepartment of Mechanical and Manufacturing Engineering, Cancer Biophysics Laboratory, University of Cyprus, Nicosia, Cyprus.'}, {'lastname': 'Hardin', 'firstname': 'C Corey', 'initials': 'CC', 'affiliation': 'Department of Pulmonary and Critical Care Medicine, Massachusetts General Hospital and Harvard Medical School, Boston, MA, United States of America.'}, {'lastname': 'Naranbhai', 'firstname': 'Vivek', 'initials': 'V', 'affiliation': 'Department of Medicine, Massachusetts General Hospital Cancer Center, Division of Hematology/Oncology, Massachusetts General Hospital, Boston, MA, United States of America.\\nDana-Farber Cancer Institute, Boston, MA, United States of America.\\nCenter for the AIDS Programme of Research in South Africa, Durban, South Africa.'}, {'lastname': 'Nikmaneshi', 'firstname': 'Mohammad R', 'initials': 'MR', 'affiliation': 'Department of Radiation Oncology, Edwin L Steele Laboratories, Massachusetts General Hospital and Harvard Medical School, Boston, MA, United States of America.'}, {'lastname': 'Khandekar', 'firstname': 'Melin J', 'initials': 'MJ', 'affiliation': 'Department of Radiation Oncology, Massachusetts General Hospital and Harvard Medical School, Boston, MA, United States of America.'}, {'lastname': 'Gainor', 'firstname': 'Justin F', 'initials': 'JF', 'affiliation': 'Department of Medicine, Massachusetts General Hospital Cancer Center, Division of Hematology/Oncology, Massachusetts General Hospital, Boston, MA, United States of America.'}, {'lastname': 'Munn', 'firstname': 'Lance L', 'initials': 'LL', 'affiliation': 'Department of Radiation Oncology, Edwin L Steele Laboratories, Massachusetts General Hospital and Harvard Medical School, Boston, MA, United States of America.'}, {'lastname': 'Jain', 'firstname': 'Rakesh K', 'initials': 'RK', 'affiliation': 'Department of Radiation Oncology, Edwin L Steele Laboratories, Massachusetts General Hospital and Harvard Medical School, Boston, MA, United States of America.'}, {'lastname': 'Stylianopoulos', 'firstname': 'Triantafyllos', 'initials': 'T', 'affiliation': 'Department of Mechanical and Manufacturing Engineering, Cancer Biophysics Laboratory, University of Cyprus, Nicosia, Cyprus.'}]\n",
      "Publication Date: 2024-05-31\n",
      "Abstract: Critical illness, such as severe COVID-19, is heterogenous in presentation and treatment response. However, it remains possible that clinical course may be influenced by dynamic and/or random events such that similar patients subject to similar injuries may yet follow different trajectories. We deployed a mechanistic mathematical model of COVID-19 to determine the range of possible clinical courses after SARS-CoV-2 infection, which may follow from specific changes in viral properties, immune properties, treatment modality and random external factors such as initial viral load. We find that treatment efficacy and baseline patient or viral features are not the sole determinant of outcome. We found patients with enhanced innate or adaptive immune responses can experience poor viral control, resolution of infection or non-infectious inflammatory injury depending on treatment efficacy and initial viral load. Hypoxemia may result from poor viral control or ongoing inflammation despite effective viral control. Adaptive immune responses may be inhibited by very early effective therapy, resulting in viral load rebound after cessation of therapy. Our model suggests individual disease course may be influenced by the interaction between external and patient-intrinsic factors. These data have implications for the reproducibility of clinical trial cohorts and timing of optimal treatment.\n",
      "\n",
      "Title: Diagnostic performance of ultrasound-based artificial intelligence for predicting key molecular markers in breast cancer: A systematic review and meta-analysis.\n",
      "Authors: [{'lastname': 'Fu', 'firstname': 'Yuxia', 'initials': 'Y', 'affiliation': \"Department of Ultrasound, Dianjiang People's Hospital of Chongqing, Chongqing, China.\"}, {'lastname': 'Zhou', 'firstname': 'Jialin', 'initials': 'J', 'affiliation': \"Department of Ultrasound, Dianjiang People's Hospital of Chongqing, Chongqing, China.\"}, {'lastname': 'Li', 'firstname': 'Junfeng', 'initials': 'J', 'affiliation': \"Department of Oncology, Dianjiang People's Hospital of Chongqing, Chongqing, China.\"}]\n",
      "Publication Date: 2024-05-31\n",
      "Abstract: Breast cancer (BC) diagnosis and treatment rely heavily on molecular markers such as HER2, Ki67, PR, and ER. Currently, these markers are identified by invasive methods.\n",
      "This meta-analysis investigates the diagnostic accuracy of ultrasound-based radiomics as a novel approach to predicting these markers.\n",
      "A comprehensive search of PubMed, EMBASE, and Web of Science databases was conducted to identify studies evaluating ultrasound-based radiomics in BC. Inclusion criteria encompassed research on HER2, Ki67, PR, and ER as key molecular markers. Quality assessment using Quality Assessment of Diagnostic Accuracy Studies (QUADAS-2) and Radiomics Quality Score (RQS) was performed. The data extraction step was performed systematically.\n",
      "Our meta-analysis quantifies the diagnostic accuracy of ultrasound-based radiomics with a sensitivity and specificity of 0.76 and 0.78 for predicting HER2, 0.80, and 0.76 for Ki67 biomarkers. Studies did not provide sufficient data for quantitative PR and ER prediction analysis. The overall quality of studies based on the RQS tool was moderate. The QUADAS-2 evaluation showed that the studies had an unclear risk of bias regarding the flow and timing domain.\n",
      "Our analysis indicated that AI models have a promising accuracy for predicting key molecular biomarkers' status in BC patients. We performed the quantitative analysis for HER2 and Ki67 biomarkers which yielded a moderate to high accuracy. However, studies did not provide adequate data for meta-analysis of ER and PR prediction accuracy of developed models. The overall quality of the studies was acceptable. In future research, studies need to report the results thoroughly. Also, we suggest more prospective studies from different centers.\n",
      "\n"
     ]
    }
   ],
   "source": [
    "from pymed import PubMed\n",
    "\n",
    "# Créer une instance de l'objet PubMed\n",
    "pubMed = PubMed(tool=\"MyTool\", email=\"myemail@example.com\")\n",
    "\n",
    "# Effectuer une recherche sur PubMed\n",
    "search_term = \"cancer treatment\"\n",
    "results = pubMed.query(search_term, max_results=10)\n",
    "\n",
    "# Parcourir les résultats et afficher les titres des articles\n",
    "for article in results:\n",
    "    article_dict = article.toDict()\n",
    "    print(f\"Title: {article_dict['title']}\")\n",
    "    print(f\"Authors: {article_dict['authors']}\")\n",
    "    print(f\"Publication Date: {article_dict['publication_date']}\")\n",
    "    print(f\"Abstract: {article_dict['abstract']}\\n\")\n"
   ]
  }
 ],
 "metadata": {
  "kernelspec": {
   "display_name": "Python 3 (ipykernel)",
   "language": "python",
   "name": "python3"
  },
  "language_info": {
   "codemirror_mode": {
    "name": "ipython",
    "version": 3
   },
   "file_extension": ".py",
   "mimetype": "text/x-python",
   "name": "python",
   "nbconvert_exporter": "python",
   "pygments_lexer": "ipython3",
   "version": "3.11.5"
  }
 },
 "nbformat": 4,
 "nbformat_minor": 5
}
